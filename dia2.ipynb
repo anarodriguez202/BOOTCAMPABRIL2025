{
 "cells": [
  {
   "cell_type": "code",
   "execution_count": 2,
   "id": "c30fdc00",
   "metadata": {},
   "outputs": [],
   "source": [
    "nombre = 'Anita 💕'\n",
    "def saludo_bienvenida(nombre):\n",
    "    print(f\"Buen dia {nombre}\")"
   ]
  },
  {
   "cell_type": "code",
   "execution_count": 4,
   "id": "2a51f23a",
   "metadata": {},
   "outputs": [
    {
     "name": "stdout",
     "output_type": "stream",
     "text": [
      "Buen dia Angela\n"
     ]
    }
   ],
   "source": [
    "saludo_bienvenida('Angela')"
   ]
  },
  {
   "cell_type": "code",
   "execution_count": 5,
   "id": "4225e870",
   "metadata": {},
   "outputs": [
    {
     "name": "stdout",
     "output_type": "stream",
     "text": [
      "Buen dia ana\n"
     ]
    }
   ],
   "source": [
    "usuario = input ('Ingrese su nombre')\n",
    "saludo_bienvenida(usuario)"
   ]
  },
  {
   "cell_type": "code",
   "execution_count": 6,
   "id": "a2dc778d",
   "metadata": {},
   "outputs": [
    {
     "name": "stdout",
     "output_type": "stream",
     "text": [
      "Es mayor de edad, podes ingresar\n"
     ]
    }
   ],
   "source": [
    "edad = 18\n",
    "if edad < 18:\n",
    "    print('Es menor, no podes ingresar')\n",
    "else:\n",
    "    print('Es mayor de edad, podes ingresar')"
   ]
  },
  {
   "cell_type": "code",
   "execution_count": 8,
   "id": "1161e7f2",
   "metadata": {},
   "outputs": [
    {
     "name": "stdout",
     "output_type": "stream",
     "text": [
      "Estudiante\n"
     ]
    }
   ],
   "source": [
    "edad_individuo = 10\n",
    "if edad_individuo < 18:\n",
    "    print ('Estudiante')\n",
    "elif edad_individuo > 65:\n",
    "    print ('Jubilado')\n",
    "else:\n",
    "    print ('Trabajador')"
   ]
  },
  {
   "cell_type": "code",
   "execution_count": 20,
   "id": "201d76d1",
   "metadata": {},
   "outputs": [
    {
     "name": "stdout",
     "output_type": "stream",
     "text": [
      "Podes tomar pero no comprar\n"
     ]
    }
   ],
   "source": [
    "edad_individuo = int (input ('Ingresar tu edad'))\n",
    "if edad_individuo < 18:\n",
    "    print ('Juguito nomas')\n",
    "elif edad_individuo > 21:\n",
    "    print ('Hace lo que quieras')\n",
    "else:\n",
    "    print ('Podes tomar pero no comprar')"
   ]
  },
  {
   "cell_type": "code",
   "execution_count": 26,
   "id": "3b38f569",
   "metadata": {},
   "outputs": [
    {
     "ename": "SyntaxError",
     "evalue": "expected ':' (2178203978.py, line 8)",
     "output_type": "error",
     "traceback": [
      "  \u001b[36mCell\u001b[39m\u001b[36m \u001b[39m\u001b[32mIn[26]\u001b[39m\u001b[32m, line 8\u001b[39m\n\u001b[31m    \u001b[39m\u001b[31melse\u001b[39m\n        ^\n\u001b[31mSyntaxError\u001b[39m\u001b[31m:\u001b[39m expected ':'\n"
     ]
    }
   ],
   "source": [
    "def chequear_edad(edad_laboral, trabaja):\n",
    "    if edad_laboral < 18:\n",
    "        print('Estudiante')\n",
    "    elif edad_laboral < 65 and trabaja == True:\n",
    "        print('Activo laboralmente')\n",
    "    elif edad_laboral < 65 and trabaja == False:\n",
    "        print('desempleado')\n",
    "    else\n",
    "        print('Jubilado')\n",
    "chequear_edad(70,True)"
   ]
  },
  {
   "cell_type": "code",
   "execution_count": 40,
   "id": "781554b7",
   "metadata": {},
   "outputs": [
    {
     "name": "stdout",
     "output_type": "stream",
     "text": [
      "Ñamano mba'e 💀\n"
     ]
    }
   ],
   "source": [
    "temperatura = int (input ('Ingresar la temperatura'))\n",
    "if temperatura > -10 and temperatura <= 18:\n",
    "    print ('Fresquete 🌬️')\n",
    "elif temperatura > 19 and temperatura <= 30:\n",
    "    print (\"Calor'i ☀️\")\n",
    "elif temperatura >=      31 and temperatura <= 45:\n",
    "    print ('Hakuuuuu 🔥 ')\n",
    "else:\n",
    "    print (\"Ñamano mba'e 💀\")"
   ]
  },
  {
   "cell_type": "code",
   "execution_count": 41,
   "id": "338d1775",
   "metadata": {},
   "outputs": [
    {
     "name": "stdout",
     "output_type": "stream",
     "text": [
      "5\n",
      "3\n",
      "10\n",
      "numero correcto\n"
     ]
    }
   ],
   "source": [
    "numero_a_adivinar = 10\n",
    "numero = 3\n",
    "\n",
    "while numero != numero_a_adivinar:\n",
    "    numero = int(input('Introduce un numero'))\n",
    "    print(numero)\n",
    "print('numero correcto')\n"
   ]
  },
  {
   "cell_type": "code",
   "execution_count": 47,
   "id": "8452053f",
   "metadata": {},
   "outputs": [
    {
     "name": "stdout",
     "output_type": "stream",
     "text": [
      "Contrasena correcta, buena memoria!\n"
     ]
    }
   ],
   "source": [
    "contrasena = \"985852Ana\"\n",
    "ing_contrasena = input (\"Ingresa la contrasena\")\n",
    "\n",
    "while contrasena != ing_contrasena:\n",
    "    ing_contrasena = input ('Ingresa de nuevo la contrasena')\n",
    "print('Contrasena correcta, buena memoria!')\n",
    "\n",
    "\n",
    "\n"
   ]
  },
  {
   "cell_type": "code",
   "execution_count": null,
   "id": "7f30bcd7",
   "metadata": {},
   "outputs": [
    {
     "name": "stdout",
     "output_type": "stream",
     "text": [
      "banana\n",
      "['pera', 'manzana', 'banana', 'kiwi']\n",
      "['pera', 'durazno', 'banana', 'kiwi']\n",
      "['pera', 'banana', 'kiwi']\n",
      "['banana', 'kiwi']\n",
      "2\n"
     ]
    }
   ],
   "source": [
    "lista_frutas = ['pera', 'manzana', 'banana']\n",
    "\n",
    "# diferentes tipos de datos\n",
    "lista_bool = [True, False, True]\n",
    "lista_numero = [1,2,3,5,6]\n",
    "\n",
    "print(lista_frutas[2])\n",
    "\n",
    "#Anadir\n",
    "lista_frutas.append('kiwi')\n",
    "print(lista_frutas)\n",
    "\n",
    "#Modificar\n",
    "lista_frutas[1] = 'durazno'\n",
    "print(lista_frutas)\n",
    "\n",
    "\n",
    "#eliminar un elemento de la posicion\n",
    "lista_frutas.pop(1)\n",
    "print(lista_frutas)\n",
    "\n",
    "#eliminar elemento especifico\n",
    "lista_frutas.remove('pera')\n",
    "print(lista_frutas)\n",
    "\n",
    "#contar elementos de la lista\n",
    "\n",
    "print(len(lista_frutas))"
   ]
  },
  {
   "cell_type": "code",
   "execution_count": 67,
   "id": "5cf2d1a0",
   "metadata": {},
   "outputs": [
    {
     "name": "stdout",
     "output_type": "stream",
     "text": [
      "['tomate', 'locote', 'cebolla', 'papa', 'zapallo']\n",
      "['tomate', 'zanahoria', 'papa', 'zapallo']\n"
     ]
    }
   ],
   "source": [
    "# Crear una lista de 5 elementos\n",
    "lista_verduras = ['tomate', 'locote', 'cebolla', 'papa']\n",
    "# Agregar un elemento al final de la lista\n",
    "lista_verduras.append('zapallo')\n",
    "print(lista_verduras)\n",
    "lista_verduras[1] = 'zanahoria'\n",
    "lista_verduras.pop(2)\n",
    "print(lista_verduras)\n"
   ]
  },
  {
   "cell_type": "code",
   "execution_count": null,
   "id": "dbf7795e",
   "metadata": {},
   "outputs": [
    {
     "name": "stdout",
     "output_type": "stream",
     "text": [
      "lunes\n",
      "martes\n",
      "miercoles\n",
      "jueves\n",
      "viernes\n",
      "sabado\n",
      "domingo\n"
     ]
    }
   ],
   "source": [
    "#interaccion\n",
    "dias_de_la_semana = ['lunes', 'martes', 'miercoles', 'jueves', 'viernes', 'sabado', 'domingo']\n",
    "for i in dias_de_la_semana:\n",
    "    print(i)\n",
    "                     "
   ]
  },
  {
   "cell_type": "code",
   "execution_count": 69,
   "id": "bb14a933",
   "metadata": {},
   "outputs": [
    {
     "name": "stdout",
     "output_type": "stream",
     "text": [
      "hola anita\n",
      "hola anita\n",
      "hola anita\n",
      "hola anita\n",
      "hola anita\n"
     ]
    }
   ],
   "source": [
    "for i in range(5):\n",
    "    print('hola anita')"
   ]
  },
  {
   "cell_type": "code",
   "execution_count": 71,
   "id": "822ff09f",
   "metadata": {},
   "outputs": [
    {
     "name": "stdout",
     "output_type": "stream",
     "text": [
      "dia: lunes\n",
      "dia: martes\n",
      "dia: miercoles\n",
      "dia: jueves\n",
      "dia: viernes\n",
      "dia: sabado\n",
      "dia: domingo\n"
     ]
    }
   ],
   "source": [
    "dias_de_la_semana = ['lunes', 'martes', 'miercoles', 'jueves', 'viernes', 'sabado', 'domingo']\n",
    "for dia in dias_de_la_semana:\n",
    "    print(f'dia: {dia}')"
   ]
  },
  {
   "cell_type": "code",
   "execution_count": 97,
   "id": "26c297b2",
   "metadata": {},
   "outputs": [
    {
     "name": "stdout",
     "output_type": "stream",
     "text": [
      "2\n",
      "4\n",
      "6\n",
      "8\n",
      "10\n",
      "12\n",
      "14\n",
      "16\n",
      "18\n",
      "20\n"
     ]
    }
   ],
   "source": [
    "numero = 2\n",
    "for numero in range(1,11):\n",
    "    multiplicacion = numero * 2\n",
    "    print(multiplicacion)"
   ]
  },
  {
   "cell_type": "code",
   "execution_count": null,
   "id": "fc47b3ed",
   "metadata": {},
   "outputs": [
    {
     "name": "stdout",
     "output_type": "stream",
     "text": [
      "Toyota\n",
      "chevrolet\n",
      "mitsubishi\n",
      "porshe\n"
     ]
    }
   ],
   "source": [
    "# crea una lista de marcas\n",
    "lista_marcas = ['Toyota', 'kia', 'chevrolet', 'mitsubishi', 'porshe']\n",
    "# recorrer la lista de marcas\n",
    "for marca in lista_marcas:\n",
    "    if len(marca) >= 6:\n",
    "        print(marca)"
   ]
  },
  {
   "cell_type": "code",
   "execution_count": 161,
   "id": "d373805f",
   "metadata": {},
   "outputs": [],
   "source": [
    "mensaje = input ('Podes ingresar una linda frase')\n",
    "for frase in mensaje:\n",
    "    if (frase) == \"o\":\n",
    "        print('encontre una ooo')\n",
    "\n"
   ]
  }
 ],
 "metadata": {
  "kernelspec": {
   "display_name": "Python 3",
   "language": "python",
   "name": "python3"
  },
  "language_info": {
   "codemirror_mode": {
    "name": "ipython",
    "version": 3
   },
   "file_extension": ".py",
   "mimetype": "text/x-python",
   "name": "python",
   "nbconvert_exporter": "python",
   "pygments_lexer": "ipython3",
   "version": "3.12.10"
  }
 },
 "nbformat": 4,
 "nbformat_minor": 5
}
