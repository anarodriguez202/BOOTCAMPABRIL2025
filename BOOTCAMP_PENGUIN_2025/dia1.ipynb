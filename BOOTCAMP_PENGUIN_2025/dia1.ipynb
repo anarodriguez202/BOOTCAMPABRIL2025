{
 "cells": [
  {
   "cell_type": "code",
   "execution_count": 3,
   "id": "4b5bd102",
   "metadata": {},
   "outputs": [
    {
     "name": "stdout",
     "output_type": "stream",
     "text": [
      "70\n",
      "-30\n"
     ]
    }
   ],
   "source": [
    "cantidad_de_manzanas = 20\n",
    "cantidad_de_naranjas = 50\n",
    "cantidad_de_frutas = cantidad_de_manzanas + cantidad_de_naranjas\n",
    "print(cantidad_de_frutas)\n",
    "\n",
    "frutas_vendidas = 100\n",
    "frutas_restantes = cantidad_de_frutas - frutas_vendidas\n",
    "print(frutas_restantes)"
   ]
  },
  {
   "cell_type": "code",
   "execution_count": 29,
   "id": "9bc4a53b",
   "metadata": {},
   "outputs": [
    {
     "name": "stdout",
     "output_type": "stream",
     "text": [
      "33\n"
     ]
    }
   ],
   "source": [
    "numero1 = int(input (\"dame un numero\"))\n",
    "numero2 = int(input (\"dame otro numero\"))\n",
    "suma= numero1 + numero2\n",
    "print(suma)"
   ]
  },
  {
   "cell_type": "code",
   "execution_count": 30,
   "id": "98c84970",
   "metadata": {},
   "outputs": [
    {
     "name": "stdout",
     "output_type": "stream",
     "text": [
      "Abrir el pan\n",
      "Agregar el jamon\n",
      "Agregar el queso\n",
      "Cerrar el pan\n",
      "Listo\n"
     ]
    }
   ],
   "source": [
    "def preparar_sanwich():\n",
    "    print('Abrir el pan')\n",
    "    print('Agregar el jamon')\n",
    "    print('Agregar el queso')\n",
    "    print('Cerrar el pan')\n",
    "    print('Listo')\n",
    "preparar_sanwich()"
   ]
  },
  {
   "cell_type": "code",
   "execution_count": null,
   "id": "cfcc93d6",
   "metadata": {},
   "outputs": [
    {
     "name": "stdout",
     "output_type": "stream",
     "text": [
      "Hola, me llamo Rodrigo Paredes. Mucho gusto! ✌\n"
     ]
    }
   ],
   "source": [
    "nombre = (\"Rodrigo\")\n",
    "apellido = (\"Paredes\")\n",
    "nombre_completo = nombre + apellido\n",
    "print('Hola, me llamo', nombre + ' ' + apellido + '.' , 'Mucho gusto! ✌')"
   ]
  }
 ],
 "metadata": {
  "kernelspec": {
   "display_name": "Python 3",
   "language": "python",
   "name": "python3"
  },
  "language_info": {
   "codemirror_mode": {
    "name": "ipython",
    "version": 3
   },
   "file_extension": ".py",
   "mimetype": "text/x-python",
   "name": "python",
   "nbconvert_exporter": "python",
   "pygments_lexer": "ipython3",
   "version": "3.12.10"
  }
 },
 "nbformat": 4,
 "nbformat_minor": 5
}
